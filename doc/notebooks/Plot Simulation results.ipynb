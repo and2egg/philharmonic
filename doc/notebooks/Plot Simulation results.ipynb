{
 "metadata": {
  "name": "",
  "signature": "sha256:51d9eb64d96bf4f3590d1ef73853830ce8fbbdf5f14a346c9fe33ae6726aeed2"
 },
 "nbformat": 3,
 "nbformat_minor": 0,
 "worksheets": [
  {
   "cells": [
    {
     "cell_type": "code",
     "collapsed": false,
     "input": [
      "import os\n",
      "base_location = os.path.expanduser('~/Dropbox/uni/DA/Implementation/philharmonic')\n",
      "ph_location = os.path.expanduser('~/Dropbox/uni/DA/Implementation/philharmonic/philharmonic')\n",
      "simple_location = os.path.expanduser('~/Dropbox/uni/DA/Implementation/philharmonic/io/results/test/simple')\n",
      "os.listdir(base_location)"
     ],
     "language": "python",
     "metadata": {},
     "outputs": []
    },
    {
     "cell_type": "code",
     "collapsed": false,
     "input": [
      "%matplotlib inline\n",
      "\n",
      "import matplotlib\n",
      "import numpy as np\n",
      "import matplotlib.pyplot as plt"
     ],
     "language": "python",
     "metadata": {},
     "outputs": []
    },
    {
     "cell_type": "code",
     "collapsed": false,
     "input": [
      "import sys\n",
      "sys.path.append(base_location)\n",
      "sys.path.append(os.path.join(base_location, 'philharmonic'))\n",
      "# sys.path.append(os.path.join(ph_location, 'cloud'))\n",
      "# sys.path.append(os.path.join(ph_location, 'manager'))\n",
      "# sys.path.append(os.path.join(ph_location, 'scheduler'))\n",
      "# sys.path.append(os.path.join(ph_location, 'scheduler/ga'))\n",
      "# sys.path.append(os.path.join(ph_location, 'scheduler/simple'))\n",
      "# sys.path.append(os.path.join(ph_location, 'scheduler/peak_pauser'))\n",
      "# sys.path.append(os.path.join(ph_location, 'scheduler/generic'))\n",
      "# sys.path.append(os.path.join(ph_location, 'settings'))\n",
      "# sys.path.append(os.path.join(ph_location, 'simulator'))\n",
      "# sys.path.append(os.path.join(ph_location, 'timeseries'))"
     ],
     "language": "python",
     "metadata": {},
     "outputs": []
    },
    {
     "cell_type": "code",
     "collapsed": false,
     "input": [
      "%reload_ext autoreload\n",
      "%autoreload 2\n",
      "import philharmonic as ph\n",
      "# from philharmonic import VM, Server, State, Migration"
     ],
     "language": "python",
     "metadata": {},
     "outputs": []
    },
    {
     "cell_type": "code",
     "collapsed": false,
     "input": [
      "## Loading all modules from a directory\n",
      "# import pkgutil\n",
      "# import sys\n",
      "# def load_all_modules_from_dir(dirname):\n",
      "#     for importer, package_name, _ in pkgutil.iter_modules([dirname]):\n",
      "#         full_package_name = '%s.%s' % (dirname, package_name)\n",
      "#         if full_package_name not in sys.modules:\n",
      "#             module = importer.find_module(package_name\n",
      "#                         ).load_module(full_package_name)\n",
      "#             print module\n",
      "\n",
      "\n",
      "# load_all_modules_from_dir(ph_location)"
     ],
     "language": "python",
     "metadata": {},
     "outputs": [],
     "prompt_number": 4
    },
    {
     "cell_type": "code",
     "collapsed": false,
     "input": [
      "import pandas as pd\n",
      "import pickle\n",
      "# import philharmonic.cloud.model as model\n",
      "os.getcwd()\n",
      "# requests = pd.read_pickle(os.path.join(base_location, 'io/workload', 'requests.pkl'))\n",
      "# with open(os.path.join(base_location, 'io/workload', 'servers.pkl')) as pkl_srv:\n",
      "#     servers = pickle.load(pkl_srv)\n",
      "# print servers\n",
      "# requests = pd.read_pickle(os.path.join(simple_location, '2015-09-01', '180556_input_requests.pkl'))\n",
      "# results = pd.read_pickle(os.path.join(simple_location, '2015-09-01', '180556_output_results.pkl'))\n",
      "# schedule = pd.read_pickle(os.path.join(simple_location, '2015-09-01', '180556_output_schedule.pkl'))\n",
      "# power = pd.read_pickle(os.path.join(simple_location, '2015-09-03', '163609_output_power.pkl'))\n",
      "# util = pd.read_pickle(os.path.join(simple_location, '2015-09-03', '163609_output_util.pkl'))\n",
      "\n",
      "## location based: \n",
      "# power = pd.read_pickle(os.path.join(simple_location, '2015-10-18', '181417_output_power.pkl'))\n",
      "# util = pd.read_pickle(os.path.join(simple_location, '2015-10-18', '181417_output_util.pkl'))\n",
      "\n",
      "# 6 servers, 20 VMs\n",
      "power = pd.read_pickle(os.path.join(simple_location, '2015-10-18', '185037_output_power.pkl'))\n",
      "util = pd.read_pickle(os.path.join(simple_location, '2015-10-18', '185037_output_util.pkl'))\n",
      "def get_util_per_location():\n",
      "    return [util.ix[:,idx:(idx+1)] for idx in range(0,len(util.columns.values))]\n",
      "utils = get_util_per_location()\n",
      "utils[0]\n",
      "# df1 = util.ix[:,0:1] # first column\n",
      "# df1"
     ],
     "language": "python",
     "metadata": {},
     "outputs": []
    },
    {
     "cell_type": "code",
     "collapsed": false,
     "input": [
      "nplots = len(utils)\n",
      "titles = util.columns.values\n",
      "\n",
      "colors = ('b', 'g', 'r', 'c', 'm', 'y', 'k')\n",
      "\n",
      "for i in range(0, nplots):\n",
      "    ax = plt.subplot(nplots, 1, (i+1))\n",
      "    ax.set_title(titles[i])\n",
      "#     ymin, ymax = ylim()\n",
      "    ylim(-10, 110)\n",
      "    xlabel('')\n",
      "    ylabel('CPU Utilisation (%)')\n",
      "    values = utils[i]*100\n",
      "    values.plot(ax=ax, color=colors[i])\n",
      "subplots_adjust(hspace=0.48)\n",
      "\n",
      "plt.show()"
     ],
     "language": "python",
     "metadata": {},
     "outputs": []
    },
    {
     "cell_type": "code",
     "collapsed": false,
     "input": [
      "import matplotlib.pyplot as plt\n",
      "# from pylab import *\n",
      "plt.figure(1)\n",
      "plt.plot(util*100)\n",
      "# figure(2)\n",
      "# plot(util)\n",
      "# plot(power)\n",
      "plt.show()"
     ],
     "language": "python",
     "metadata": {},
     "outputs": [],
     "prompt_number": 74
    },
    {
     "cell_type": "code",
     "collapsed": false,
     "input": [
      "plt.plot([1,2,3])\n",
      "# now create a subplot which represents the top plot of a grid\n",
      "# with 2 rows and 1 column. Since this subplot will overlap the\n",
      "# first, the plot (and its axes) previously created, will be removed\n",
      "plt.subplot(211)\n",
      "plt.plot(range(12))\n",
      "plt.subplot(212, axisbg='y') # creates 2nd subplot with yellow background\n",
      "plt.show()"
     ],
     "language": "python",
     "metadata": {},
     "outputs": [],
     "prompt_number": 10
    },
    {
     "cell_type": "code",
     "collapsed": false,
     "input": [
      "def no_x_ticks(ax):\n",
      "    ax.tick_params(\\\n",
      "    axis='x',          # changes apply to the x-axis\n",
      "    which='both',      # both major and minor ticks are affected\n",
      "    bottom='off',      # ticks along the bottom edge are off\n",
      "    top='off',         # ticks along the top edge are off\n",
      "    labelbottom='off') # labels along the bottom edge are off\n",
      "    ax.set_xlabel('')\n",
      "    \n",
      "def no_y_ticks(ax):\n",
      "    ax.tick_params(\\\n",
      "    axis='y',          # changes apply to the x-axis\n",
      "    which='both',      # both major and minor ticks are affected\n",
      "    left='off',      # ticks along the bottom edge are off\n",
      "    right='off',         # ticks along the top edge are off\n",
      "    labelleft='off') # labels along the bottom edge are off\n",
      "    ax.set_ylabel('')\n",
      "    \n",
      "pd.Series(np.random.randn(10), pd.date_range(start='2012-01-01', periods=10)).plot()\n",
      "xlabel('bla')\n",
      "ylabel('bla')\n",
      "show()\n",
      "\n",
      "pd.Series(np.random.randn(10), pd.date_range(start='2012-01-01', periods=10)).plot()\n",
      "xlabel('bla')\n",
      "ylabel('bla')\n",
      "no_x_ticks(plt.gca())\n",
      "no_y_ticks(plt.gca())\n",
      "show()"
     ],
     "language": "python",
     "metadata": {},
     "outputs": [],
     "prompt_number": 7
    },
    {
     "cell_type": "code",
     "collapsed": false,
     "input": [],
     "language": "python",
     "metadata": {},
     "outputs": [],
     "prompt_number": 9
    }
   ],
   "metadata": {}
  }
 ]
}