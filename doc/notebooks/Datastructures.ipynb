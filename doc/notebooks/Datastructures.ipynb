{
 "metadata": {
  "name": "",
  "signature": "sha256:5d5f87ce5933d1d12a70392215d34c05aa30780a2266aa83154bf3ed14ea3d3a"
 },
 "nbformat": 3,
 "nbformat_minor": 0,
 "worksheets": [
  {
   "cells": [
    {
     "cell_type": "code",
     "collapsed": false,
     "input": [
      "arr = [3,4,5]\n",
      "r = [1,2]\n",
      "r.extend(arr)\n",
      "r"
     ],
     "language": "python",
     "metadata": {},
     "outputs": [
      {
       "metadata": {},
       "output_type": "pyout",
       "prompt_number": 1,
       "text": [
        "[1, 2, 3, 4, 5]"
       ]
      }
     ],
     "prompt_number": 1
    },
    {
     "cell_type": "code",
     "collapsed": false,
     "input": [
      "import numpy as np\n",
      "avg = np.average(range(1,11), weights=range(10,0,-1))\n",
      "avg"
     ],
     "language": "python",
     "metadata": {},
     "outputs": [
      {
       "metadata": {},
       "output_type": "pyout",
       "prompt_number": 2,
       "text": [
        "4.0"
       ]
      }
     ],
     "prompt_number": 2
    },
    {
     "cell_type": "code",
     "collapsed": false,
     "input": [
      "range(10,4,-1)"
     ],
     "language": "python",
     "metadata": {},
     "outputs": [
      {
       "metadata": {},
       "output_type": "pyout",
       "prompt_number": 3,
       "text": [
        "[10, 9, 8, 7, 6, 5]"
       ]
      }
     ],
     "prompt_number": 3
    },
    {
     "cell_type": "code",
     "collapsed": false,
     "input": [
      "sort_arr = [4,2,5]\n",
      "sort_arr.sort()\n",
      "sort_arr"
     ],
     "language": "python",
     "metadata": {},
     "outputs": [
      {
       "metadata": {},
       "output_type": "pyout",
       "prompt_number": 6,
       "text": [
        "[2, 4, 5]"
       ]
      }
     ],
     "prompt_number": 6
    },
    {
     "cell_type": "code",
     "collapsed": false,
     "input": [
      "list = [\"a\",\"b\",\"a\",\"A\"]\n",
      "list.count(\"a\")"
     ],
     "language": "python",
     "metadata": {},
     "outputs": [
      {
       "metadata": {},
       "output_type": "pyout",
       "prompt_number": 1,
       "text": [
        "2"
       ]
      }
     ],
     "prompt_number": 1
    },
    {
     "cell_type": "code",
     "collapsed": false,
     "input": [
      "VMs = [(4,3),(2,5),(5,3),(6,1)]\n",
      "sorted(VMs, key=lambda x : (x[0], x[1]),\n",
      "                  reverse=True)"
     ],
     "language": "python",
     "metadata": {},
     "outputs": [
      {
       "metadata": {},
       "output_type": "pyout",
       "prompt_number": 2,
       "text": [
        "[(6, 1), (5, 3), (4, 3), (2, 5)]"
       ]
      }
     ],
     "prompt_number": 2
    },
    {
     "cell_type": "code",
     "collapsed": false,
     "input": [
      "VMs = [(4,99),(2,-4),(5,200),(6,7)]\n",
      "sorted(VMs, key=lambda x : (x[0], x[1]),\n",
      "                  reverse=True)"
     ],
     "language": "python",
     "metadata": {},
     "outputs": [
      {
       "metadata": {},
       "output_type": "pyout",
       "prompt_number": 3,
       "text": [
        "[(6, 7), (5, 200), (4, 99), (2, -4)]"
       ]
      }
     ],
     "prompt_number": 3
    },
    {
     "cell_type": "code",
     "collapsed": false,
     "input": [
      "VMs = [(4,99),(4,-4),(4,200),(6,7)]\n",
      "sorted(VMs, key=lambda x : (x[0], x[1]), reverse=True)"
     ],
     "language": "python",
     "metadata": {},
     "outputs": [
      {
       "metadata": {},
       "output_type": "pyout",
       "prompt_number": 6,
       "text": [
        "[(6, 7), (4, 200), (4, 99), (4, -4)]"
       ]
      }
     ],
     "prompt_number": 6
    },
    {
     "cell_type": "code",
     "collapsed": false,
     "input": [
      "test_list = [4]\n",
      "len(test_list)\n",
      "test_list[0]\n",
      "test_list.append(5)\n",
      "test_list"
     ],
     "language": "python",
     "metadata": {},
     "outputs": [
      {
       "metadata": {},
       "output_type": "pyout",
       "prompt_number": 29,
       "text": [
        "[4, 5]"
       ]
      }
     ],
     "prompt_number": 29
    },
    {
     "cell_type": "code",
     "collapsed": false,
     "input": [
      "import numpy as np\n",
      "values = [1,2,5,8,12,24,48]\n",
      "num = 48\n",
      "values_uniform = np.random.randint(0, len(values), num)\n",
      "values_result = np.empty_like (values_uniform)\n",
      "values_result[:] = values_uniform\n",
      "\n",
      "for i in range(len(values_uniform)):\n",
      "    values_result[i] = values[values_uniform[i]]\n",
      "values_result"
     ],
     "language": "python",
     "metadata": {},
     "outputs": [
      {
       "metadata": {},
       "output_type": "pyout",
       "prompt_number": 3,
       "text": [
        "array([ 2, 24,  8,  8, 48, 24,  1,  8,  2, 48,  8,  1,  2,  1, 48,  1,  8,\n",
        "       48,  5,  8, 48,  1,  1,  8,  8,  5,  1,  5,  5,  8,  2,  2,  5, 12,\n",
        "        1, 12,  1, 24,  2, 12,  2, 12, 12,  1, 24,  8, 48,  1])"
       ]
      }
     ],
     "prompt_number": 3
    },
    {
     "cell_type": "code",
     "collapsed": false,
     "input": [
      "duration_values = [1,2,5,8,12,24,48,1000]\n",
      "dur_arr = np.array(duration_values) *  4\n",
      "dur_arr\n",
      "dur_arr == []\n",
      "duration_values.append(4)\n",
      "duration_values"
     ],
     "language": "python",
     "metadata": {},
     "outputs": [
      {
       "metadata": {},
       "output_type": "pyout",
       "prompt_number": 54,
       "text": [
        "[1, 2, 5, 8, 12, 24, 48, 1000, 4]"
       ]
      }
     ],
     "prompt_number": 54
    },
    {
     "cell_type": "code",
     "collapsed": false,
     "input": [
      "a = [1,2,3]\n",
      "b = [2,3,4]\n",
      "dist = np.linalg.norm(a-b)"
     ],
     "language": "python",
     "metadata": {},
     "outputs": [
      {
       "ename": "TypeError",
       "evalue": "unsupported operand type(s) for -: 'list' and 'list'",
       "output_type": "pyerr",
       "traceback": [
        "\u001b[1;31m---------------------------------------------------------------------------\u001b[0m\n\u001b[1;31mTypeError\u001b[0m                                 Traceback (most recent call last)",
        "\u001b[1;32m<ipython-input-4-0583a57d8555>\u001b[0m in \u001b[0;36m<module>\u001b[1;34m()\u001b[0m\n\u001b[0;32m      1\u001b[0m \u001b[0ma\u001b[0m \u001b[1;33m=\u001b[0m \u001b[1;33m[\u001b[0m\u001b[1;36m1\u001b[0m\u001b[1;33m,\u001b[0m\u001b[1;36m2\u001b[0m\u001b[1;33m,\u001b[0m\u001b[1;36m3\u001b[0m\u001b[1;33m]\u001b[0m\u001b[1;33m\u001b[0m\u001b[0m\n\u001b[0;32m      2\u001b[0m \u001b[0mb\u001b[0m \u001b[1;33m=\u001b[0m \u001b[1;33m[\u001b[0m\u001b[1;36m2\u001b[0m\u001b[1;33m,\u001b[0m\u001b[1;36m3\u001b[0m\u001b[1;33m,\u001b[0m\u001b[1;36m4\u001b[0m\u001b[1;33m]\u001b[0m\u001b[1;33m\u001b[0m\u001b[0m\n\u001b[1;32m----> 3\u001b[1;33m \u001b[0mdist\u001b[0m \u001b[1;33m=\u001b[0m \u001b[0mnp\u001b[0m\u001b[1;33m.\u001b[0m\u001b[0mlinalg\u001b[0m\u001b[1;33m.\u001b[0m\u001b[0mnorm\u001b[0m\u001b[1;33m(\u001b[0m\u001b[0ma\u001b[0m\u001b[1;33m-\u001b[0m\u001b[0mb\u001b[0m\u001b[1;33m)\u001b[0m\u001b[1;33m\u001b[0m\u001b[0m\n\u001b[0m",
        "\u001b[1;31mTypeError\u001b[0m: unsupported operand type(s) for -: 'list' and 'list'"
       ]
      }
     ],
     "prompt_number": 4
    },
    {
     "cell_type": "code",
     "collapsed": false,
     "input": [
      "from scipy.spatial import distance\n",
      "a = (1,2,3)\n",
      "b = (1,3,4)\n",
      "dst = distance.euclidean(a,b)\n",
      "dst"
     ],
     "language": "python",
     "metadata": {},
     "outputs": [
      {
       "metadata": {},
       "output_type": "pyout",
       "prompt_number": 10,
       "text": [
        "1.4142135623730951"
       ]
      }
     ],
     "prompt_number": 10
    },
    {
     "cell_type": "code",
     "collapsed": false,
     "input": [
      "d = {}\n",
      "values = [\"loc1\", \"loc2\", \"loc3\", \"loc4\"]\n",
      "for l in values: \n",
      "    d[l] = {}\n",
      "    for v in values: \n",
      "        if v != l:\n",
      "            d[l][v] = -1\n",
      "d[values[1]][values[0]]"
     ],
     "language": "python",
     "metadata": {},
     "outputs": [
      {
       "metadata": {},
       "output_type": "pyout",
       "prompt_number": 21,
       "text": [
        "-1"
       ]
      }
     ],
     "prompt_number": 21
    },
    {
     "cell_type": "code",
     "collapsed": false,
     "input": [
      "for k in d:\n",
      "    print d[k]\n",
      "d\n",
      "visited = {}\n",
      "visited[3] = False\n",
      "visited"
     ],
     "language": "python",
     "metadata": {},
     "outputs": [
      {
       "output_type": "stream",
       "stream": "stdout",
       "text": [
        "{'loc3': -1, 'loc1': -1, 'loc4': -1}\n",
        "{'loc2': -1, 'loc1': -1, 'loc4': -1}\n",
        "{'loc2': -1, 'loc3': -1, 'loc4': -1}\n",
        "{'loc2': -1, 'loc3': -1, 'loc1': -1}\n"
       ]
      },
      {
       "metadata": {},
       "output_type": "pyout",
       "prompt_number": 32,
       "text": [
        "{3: False}"
       ]
      }
     ],
     "prompt_number": 32
    },
    {
     "cell_type": "code",
     "collapsed": false,
     "input": [
      "test = [1,2,4]\n",
      "test[1:2]"
     ],
     "language": "python",
     "metadata": {},
     "outputs": [
      {
       "metadata": {},
       "output_type": "pyout",
       "prompt_number": 33,
       "text": [
        "[2]"
       ]
      }
     ],
     "prompt_number": 33
    },
    {
     "cell_type": "code",
     "collapsed": false,
     "input": [
      "t1=('l1',7)\n",
      "t2=('l2',None)\n",
      "t3=('l3',None)\n",
      "t3_new=(t3[0], t1[1]+3)\n",
      "l = []\n",
      "l.append(t1)\n",
      "l.append(t2)\n",
      "l.append(('l',4))\n",
      "min(l, key=lambda x: x[1])\n",
      "t = min(3, -3)\n",
      "t is not None\n",
      "3 > None\n",
      "t3_new\n",
      "min(l)"
     ],
     "language": "python",
     "metadata": {},
     "outputs": [
      {
       "metadata": {},
       "output_type": "pyout",
       "prompt_number": 99,
       "text": [
        "('l', 4)"
       ]
      }
     ],
     "prompt_number": 99
    },
    {
     "cell_type": "code",
     "collapsed": false,
     "input": [
      "vec1 = [1,2,3]; vec2 = [1,2,6]\n",
      "-sum([v[0] - v[1] for v in zip(vec1,vec2)])"
     ],
     "language": "python",
     "metadata": {},
     "outputs": [
      {
       "metadata": {},
       "output_type": "pyout",
       "prompt_number": 47,
       "text": [
        "3"
       ]
      }
     ],
     "prompt_number": 47
    },
    {
     "cell_type": "code",
     "collapsed": false,
     "input": [
      "l = {}\n",
      "l['test'] = ('l1',123)\n",
      "l['abc'] = ('l2',289)\n",
      "\n",
      "sorted(l.values())\n",
      "sorted(l, key=l.get)\n",
      "sorted(l.items(), key=lambda x:x[1][1], reverse=True)\n",
      "l.values()\n",
      "m = max(l.items(), key=lambda x:x[1][1])[1][1]\n",
      "m"
     ],
     "language": "python",
     "metadata": {},
     "outputs": [
      {
       "metadata": {},
       "output_type": "pyout",
       "prompt_number": 8,
       "text": [
        "289"
       ]
      }
     ],
     "prompt_number": 8
    },
    {
     "cell_type": "code",
     "collapsed": false,
     "input": [
      "d = {}\n",
      "d['abc'] = 3\n",
      "d['def'] = 4\n",
      "d\n",
      "d.items()\n",
      "# maxval = max(d.iteritems(), key=operator.itemgetter(1))[1]\n",
      "max(d.items(), key=lambda x:x[1])"
     ],
     "language": "python",
     "metadata": {},
     "outputs": [
      {
       "metadata": {},
       "output_type": "pyout",
       "prompt_number": 15,
       "text": [
        "('def', 4)"
       ]
      }
     ],
     "prompt_number": 15
    },
    {
     "cell_type": "code",
     "collapsed": false,
     "input": [
      "f = 0.2\n",
      "float(f)\n",
      "range(0,0)"
     ],
     "language": "python",
     "metadata": {},
     "outputs": [
      {
       "metadata": {},
       "output_type": "pyout",
       "prompt_number": 10,
       "text": [
        "[]"
       ]
      }
     ],
     "prompt_number": 10
    },
    {
     "cell_type": "code",
     "collapsed": false,
     "input": [
      "[min_v, max_v] = [3,4]"
     ],
     "language": "python",
     "metadata": {},
     "outputs": [],
     "prompt_number": 132
    },
    {
     "cell_type": "code",
     "collapsed": false,
     "input": [
      "def test():\n",
      "    return [2,3]\n",
      "test()[0]\n",
      "t = 3\n",
      "t += 1\n",
      "t"
     ],
     "language": "python",
     "metadata": {},
     "outputs": [
      {
       "metadata": {},
       "output_type": "pyout",
       "prompt_number": 114,
       "text": [
        "4"
       ]
      }
     ],
     "prompt_number": 114
    },
    {
     "cell_type": "code",
     "collapsed": false,
     "input": [
      "a = None\n",
      "a is not None"
     ],
     "language": "python",
     "metadata": {},
     "outputs": [
      {
       "metadata": {},
       "output_type": "pyout",
       "prompt_number": 16,
       "text": [
        "False"
       ]
      }
     ],
     "prompt_number": 16
    },
    {
     "cell_type": "code",
     "collapsed": false,
     "input": [
      "print \"test\",\"abont\"\n",
      "type(\"test\")"
     ],
     "language": "python",
     "metadata": {},
     "outputs": [
      {
       "output_type": "stream",
       "stream": "stdout",
       "text": [
        "test abont\n"
       ]
      },
      {
       "metadata": {},
       "output_type": "pyout",
       "prompt_number": 19,
       "text": [
        "str"
       ]
      }
     ],
     "prompt_number": 19
    },
    {
     "cell_type": "code",
     "collapsed": false,
     "input": [
      "arr = [-44,None]\n",
      "# arr[0:2]\n",
      "max(arr)\n",
      "type([1,2,3]) is list\n",
      "# type({}) is dict\n",
      "type([]) is not list"
     ],
     "language": "python",
     "metadata": {},
     "outputs": [
      {
       "metadata": {},
       "output_type": "pyout",
       "prompt_number": 70,
       "text": [
        "True"
       ]
      }
     ],
     "prompt_number": 70
    },
    {
     "cell_type": "code",
     "collapsed": false,
     "input": [
      "arr = range(1,5)\n",
      "arr[1:3]\n",
      "arr[3]\n",
      "list = range(1,2)\n",
      "list"
     ],
     "language": "python",
     "metadata": {},
     "outputs": [
      {
       "metadata": {},
       "output_type": "pyout",
       "prompt_number": 82,
       "text": [
        "[1]"
       ]
      }
     ],
     "prompt_number": 82
    },
    {
     "cell_type": "code",
     "collapsed": false,
     "input": [
      "d = {}\n",
      "d['a'] = {}\n",
      "d['b'] = {}\n",
      "d['a']['c'] = 4\n",
      "d['b']['c'] = 5\n",
      "d.values()\n",
      "[ item for item in d.items() if d.items()[1][0] == 'c' ]\n",
      "max(d.items(), key=lambda x: x[1].items())\n",
      "# max(filter(lambda i: i[1].items()[0] == 'c', d.items()), key=lambda x: x[1].items()[1])\n",
      "d.items()\n",
      "# filter(lambda i: i[1].items()[0] == 'c', d.items())"
     ],
     "language": "python",
     "metadata": {},
     "outputs": [
      {
       "metadata": {},
       "output_type": "pyout",
       "prompt_number": 91,
       "text": [
        "[('a', {'c': 4}), ('b', {'c': 5})]"
       ]
      }
     ],
     "prompt_number": 91
    },
    {
     "cell_type": "code",
     "collapsed": false,
     "input": [
      "bandwidth_da = {\n",
      "    'Hamina': {\n",
      "        'Potsdam': 1000\n",
      "    },\n",
      "    'Richmond': {\n",
      "        'Brighton': 1000, 'Hatfield': 1000, 'Madison': 1000, 'Georgetown': 1000, 'Portland': 400\n",
      "    }\n",
      "}\n",
      "bandwidth_da['Hamina']['Potsdam']"
     ],
     "language": "python",
     "metadata": {},
     "outputs": [
      {
       "metadata": {},
       "output_type": "pyout",
       "prompt_number": 44,
       "text": [
        "1000"
       ]
      }
     ],
     "prompt_number": 44
    },
    {
     "cell_type": "code",
     "collapsed": false,
     "input": [
      "# remove from list\n",
      "l = ['2','333','ssdf']\n",
      "l2 = ['2']\n",
      "s = set(l2)\n",
      "l3 = [x for x in l if x not in s]\n",
      "l3"
     ],
     "language": "python",
     "metadata": {},
     "outputs": [
      {
       "metadata": {},
       "output_type": "pyout",
       "prompt_number": 77,
       "text": [
        "['333', 'ssdf']"
       ]
      }
     ],
     "prompt_number": 77
    },
    {
     "cell_type": "code",
     "collapsed": false,
     "input": [
      "servers_per_location = [200,300,400,500,600]\n",
      "min_utils = [ 1.0 / servers for servers in servers_per_location ]\n",
      "min_utils"
     ],
     "language": "python",
     "metadata": {},
     "outputs": [
      {
       "metadata": {},
       "output_type": "pyout",
       "prompt_number": 80,
       "text": [
        "[0.005, 0.0033333333333333335, 0.0025, 0.002, 0.0016666666666666668]"
       ]
      }
     ],
     "prompt_number": 80
    },
    {
     "cell_type": "code",
     "collapsed": false,
     "input": [
      "for i in range(1,2):\n",
      "    print \"range \"+str(i)"
     ],
     "language": "python",
     "metadata": {},
     "outputs": [
      {
       "output_type": "stream",
       "stream": "stdout",
       "text": [
        "range 1\n"
       ]
      }
     ],
     "prompt_number": 88
    }
   ],
   "metadata": {}
  }
 ]
}