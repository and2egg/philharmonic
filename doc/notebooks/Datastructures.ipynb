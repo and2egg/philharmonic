{
 "metadata": {
  "name": "",
  "signature": "sha256:8a18f79d1e9af758ec35a4dab6302abde8930ec3264fa0866ffa102546493000"
 },
 "nbformat": 3,
 "nbformat_minor": 0,
 "worksheets": [
  {
   "cells": [
    {
     "cell_type": "code",
     "collapsed": false,
     "input": [
      "arr = [3,4,5]\n",
      "r = [1,2]\n",
      "r.extend(arr)\n",
      "r"
     ],
     "language": "python",
     "metadata": {},
     "outputs": [
      {
       "metadata": {},
       "output_type": "pyout",
       "prompt_number": 1,
       "text": [
        "[1, 2, 3, 4, 5]"
       ]
      }
     ],
     "prompt_number": 1
    },
    {
     "cell_type": "code",
     "collapsed": false,
     "input": [
      "import numpy as np\n",
      "avg = np.average(range(1,11), weights=range(10,0,-1))\n",
      "avg"
     ],
     "language": "python",
     "metadata": {},
     "outputs": [
      {
       "metadata": {},
       "output_type": "pyout",
       "prompt_number": 2,
       "text": [
        "4.0"
       ]
      }
     ],
     "prompt_number": 2
    },
    {
     "cell_type": "code",
     "collapsed": false,
     "input": [
      "range(10,4,-1)"
     ],
     "language": "python",
     "metadata": {},
     "outputs": [
      {
       "metadata": {},
       "output_type": "pyout",
       "prompt_number": 3,
       "text": [
        "[10, 9, 8, 7, 6, 5]"
       ]
      }
     ],
     "prompt_number": 3
    },
    {
     "cell_type": "code",
     "collapsed": false,
     "input": [
      "sort_arr = [4,2,5]\n",
      "sort_arr.sort()\n",
      "sort_arr"
     ],
     "language": "python",
     "metadata": {},
     "outputs": [
      {
       "metadata": {},
       "output_type": "pyout",
       "prompt_number": 6,
       "text": [
        "[2, 4, 5]"
       ]
      }
     ],
     "prompt_number": 6
    },
    {
     "cell_type": "code",
     "collapsed": false,
     "input": [
      "list = [\"a\",\"b\",\"a\",\"A\"]\n",
      "list.count(\"a\")"
     ],
     "language": "python",
     "metadata": {},
     "outputs": [
      {
       "metadata": {},
       "output_type": "pyout",
       "prompt_number": 1,
       "text": [
        "2"
       ]
      }
     ],
     "prompt_number": 1
    },
    {
     "cell_type": "code",
     "collapsed": false,
     "input": [
      "VMs = [(4,3),(2,5),(5,3),(6,1)]\n",
      "sorted(VMs, key=lambda x : (x[0], x[1]),\n",
      "                  reverse=True)"
     ],
     "language": "python",
     "metadata": {},
     "outputs": [
      {
       "metadata": {},
       "output_type": "pyout",
       "prompt_number": 2,
       "text": [
        "[(6, 1), (5, 3), (4, 3), (2, 5)]"
       ]
      }
     ],
     "prompt_number": 2
    },
    {
     "cell_type": "code",
     "collapsed": false,
     "input": [
      "VMs = [(4,99),(2,-4),(5,200),(6,7)]\n",
      "sorted(VMs, key=lambda x : (x[0], x[1]),\n",
      "                  reverse=True)"
     ],
     "language": "python",
     "metadata": {},
     "outputs": [
      {
       "metadata": {},
       "output_type": "pyout",
       "prompt_number": 3,
       "text": [
        "[(6, 7), (5, 200), (4, 99), (2, -4)]"
       ]
      }
     ],
     "prompt_number": 3
    },
    {
     "cell_type": "code",
     "collapsed": false,
     "input": [
      "VMs = [(4,99),(4,-4),(4,200),(6,7)]\n",
      "sorted(VMs, key=lambda x : (x[0], x[1]), reverse=True)"
     ],
     "language": "python",
     "metadata": {},
     "outputs": [
      {
       "metadata": {},
       "output_type": "pyout",
       "prompt_number": 6,
       "text": [
        "[(6, 7), (4, 200), (4, 99), (4, -4)]"
       ]
      }
     ],
     "prompt_number": 6
    },
    {
     "cell_type": "code",
     "collapsed": false,
     "input": [
      "test_list = [4]\n",
      "len(test_list)\n",
      "test_list[0]\n",
      "test_list.append(5)\n",
      "test_list"
     ],
     "language": "python",
     "metadata": {},
     "outputs": [
      {
       "metadata": {},
       "output_type": "pyout",
       "prompt_number": 29,
       "text": [
        "[4, 5]"
       ]
      }
     ],
     "prompt_number": 29
    },
    {
     "cell_type": "code",
     "collapsed": false,
     "input": [
      "import numpy as np\n",
      "values = [1,2,5,8,12,24,48]\n",
      "num = 48\n",
      "values_uniform = np.random.randint(0, len(values), num)\n",
      "values_result = np.empty_like (values_uniform)\n",
      "values_result[:] = values_uniform\n",
      "\n",
      "for i in range(len(values_uniform)):\n",
      "    values_result[i] = values[values_uniform[i]]\n",
      "values_result"
     ],
     "language": "python",
     "metadata": {},
     "outputs": [
      {
       "metadata": {},
       "output_type": "pyout",
       "prompt_number": 40,
       "text": [
        "array([48, 12,  2,  5, 12, 12,  8,  2,  8,  1,  2,  1, 12,  1,  8, 12,  8,\n",
        "        5, 48, 48,  5,  2, 24,  8, 24,  2,  5,  1, 24, 48, 48,  5, 24,  8,\n",
        "       12, 12,  8, 24,  8, 48,  8,  5,  1,  2,  2, 24, 12, 24])"
       ]
      }
     ],
     "prompt_number": 40
    },
    {
     "cell_type": "code",
     "collapsed": false,
     "input": [
      "duration_values = [1,2,5,8,12,24,48,1000]\n",
      "dur_arr = np.array(duration_values) *  4\n",
      "dur_arr\n",
      "dur_arr == []\n",
      "duration_values.append(4)\n",
      "duration_values"
     ],
     "language": "python",
     "metadata": {},
     "outputs": [
      {
       "metadata": {},
       "output_type": "pyout",
       "prompt_number": 54,
       "text": [
        "[1, 2, 5, 8, 12, 24, 48, 1000, 4]"
       ]
      }
     ],
     "prompt_number": 54
    }
   ],
   "metadata": {}
  }
 ]
}