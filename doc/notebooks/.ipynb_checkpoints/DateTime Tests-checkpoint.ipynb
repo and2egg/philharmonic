{
 "metadata": {
  "name": "",
  "signature": "sha256:07914699e5382fb772cbf1167607782b861c3e9f4a5da174b623babe300c273e"
 },
 "nbformat": 3,
 "nbformat_minor": 0,
 "worksheets": [
  {
   "cells": [
    {
     "cell_type": "code",
     "collapsed": false,
     "input": [
      "import pandas as pd\n",
      "from pandas import *\n",
      "import numpy as np\n",
      "from pandas.tseries.offsets import *\n",
      "from datetime import datetime\n",
      "\n",
      "randn = np.random.randn\n",
      "\n",
      "d = datetime(2008, 8, 18, 9, 0)"
     ],
     "language": "python",
     "metadata": {},
     "outputs": [],
     "prompt_number": 2
    },
    {
     "cell_type": "code",
     "collapsed": false,
     "input": [
      "d"
     ],
     "language": "python",
     "metadata": {},
     "outputs": [
      {
       "metadata": {},
       "output_type": "pyout",
       "prompt_number": 55,
       "text": [
        "datetime.datetime(2008, 8, 18, 9, 0)"
       ]
      }
     ],
     "prompt_number": 55
    },
    {
     "cell_type": "code",
     "collapsed": false,
     "input": [
      "rng = pd.date_range('1/1/2011', periods=336, freq='H')\n",
      "rng\n",
      "rng[:5]"
     ],
     "language": "python",
     "metadata": {},
     "outputs": [
      {
       "metadata": {},
       "output_type": "pyout",
       "prompt_number": 64,
       "text": [
        "<class 'pandas.tseries.index.DatetimeIndex'>\n",
        "[2011-01-01 00:00:00, ..., 2011-01-01 04:00:00]\n",
        "Length: 5, Freq: H, Timezone: None"
       ]
      }
     ],
     "prompt_number": 64
    },
    {
     "cell_type": "code",
     "collapsed": false,
     "input": [
      "ts = pd.Series(randn(len(rng)), index=rng)\n",
      "ts.head()"
     ],
     "language": "python",
     "metadata": {},
     "outputs": [
      {
       "metadata": {},
       "output_type": "pyout",
       "prompt_number": 68,
       "text": [
        "2011-01-01 00:00:00    1.598889\n",
        "2011-01-01 01:00:00    0.323470\n",
        "2011-01-01 02:00:00   -0.108498\n",
        "2011-01-01 03:00:00    0.672022\n",
        "2011-01-01 04:00:00   -0.778883\n",
        "Freq: H, dtype: float64"
       ]
      }
     ],
     "prompt_number": 68
    },
    {
     "cell_type": "code",
     "collapsed": false,
     "input": [
      "converted = ts.resample('5Min', fill_method='pad')\n",
      "converted.tail()"
     ],
     "language": "python",
     "metadata": {},
     "outputs": [
      {
       "metadata": {},
       "output_type": "pyout",
       "prompt_number": 72,
       "text": [
        "2011-01-14 22:40:00   -0.833252\n",
        "2011-01-14 22:45:00   -0.833252\n",
        "2011-01-14 22:50:00   -0.833252\n",
        "2011-01-14 22:55:00   -0.833252\n",
        "2011-01-14 23:00:00   -0.140240\n",
        "Freq: 5T, dtype: float64"
       ]
      }
     ],
     "prompt_number": 72
    },
    {
     "cell_type": "code",
     "collapsed": false,
     "input": [
      "start = pd.Timestamp('2014-07-07 00:00')\n",
      "times = pd.date_range(start, periods=24 * 1, freq='H')\n",
      "end = times[-1]\n",
      "period = times[1] - times[0]\n",
      "period\n",
      "start + (period*4)"
     ],
     "language": "python",
     "metadata": {},
     "outputs": [
      {
       "metadata": {},
       "output_type": "pyout",
       "prompt_number": 14,
       "text": [
        "Timestamp('2014-07-07 04:00:00')"
       ]
      }
     ],
     "prompt_number": 14
    },
    {
     "cell_type": "code",
     "collapsed": false,
     "input": [
      "s = pd.Timestamp('2014-07-07 00:00')\n",
      "e = pd.Timestamp('2014-07-07 02:30')\n",
      "p = e - s\n",
      "p.seconds / 3600"
     ],
     "language": "python",
     "metadata": {},
     "outputs": [
      {
       "metadata": {},
       "output_type": "pyout",
       "prompt_number": 29,
       "text": [
        "2"
       ]
      }
     ],
     "prompt_number": 29
    }
   ],
   "metadata": {}
  }
 ]
}