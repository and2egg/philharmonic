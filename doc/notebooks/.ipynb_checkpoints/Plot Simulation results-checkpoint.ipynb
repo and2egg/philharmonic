{
 "metadata": {
  "name": "",
  "signature": "sha256:44aa20b1a820f978646c5f325a5dbf2d705ac1399be3fadd83f4159155f4d405"
 },
 "nbformat": 3,
 "nbformat_minor": 0,
 "worksheets": [
  {
   "cells": [
    {
     "cell_type": "code",
     "collapsed": false,
     "input": [
      "import os\n",
      "base_location = os.path.expanduser('~/Dropbox/uni/DA/Implementation/philharmonic')\n",
      "ph_location = os.path.expanduser('~/Dropbox/uni/DA/Implementation/philharmonic/philharmonic')\n",
      "simple_location = os.path.expanduser('~/Dropbox/uni/DA/Implementation/philharmonic/io/results/test/simple')\n",
      "os.listdir(base_location)"
     ],
     "language": "python",
     "metadata": {},
     "outputs": [
      {
       "metadata": {},
       "output_type": "pyout",
       "prompt_number": 2,
       "text": [
        "['.bzrignore',\n",
        " '.coveragerc',\n",
        " '.git',\n",
        " '.gitignore',\n",
        " '.project',\n",
        " '.pydevproject',\n",
        " '.Rhistory',\n",
        " '.travis.yml',\n",
        " 'csvData.csv',\n",
        " 'doc',\n",
        " 'HACKING.md',\n",
        " 'helloworld.pyx',\n",
        " 'io',\n",
        " 'LICENSE',\n",
        " 'Makefile',\n",
        " 'measure_energy.py',\n",
        " 'philharmonic',\n",
        " 'philharmonic.log',\n",
        " 'README.md',\n",
        " 'requirements',\n",
        " 'requirements.txt',\n",
        " 'schedule.py',\n",
        " 'setup.cfg',\n",
        " 'setup.py',\n",
        " 'simulate.py',\n",
        " 'test.sh']"
       ]
      }
     ],
     "prompt_number": 2
    },
    {
     "cell_type": "code",
     "collapsed": false,
     "input": [
      "import sys\n",
      "sys.path.append(base_location)\n",
      "sys.path.append(os.path.join(base_location, 'philharmonic'))\n",
      "# sys.path.append(os.path.join(ph_location, 'cloud'))\n",
      "# sys.path.append(os.path.join(ph_location, 'manager'))\n",
      "# sys.path.append(os.path.join(ph_location, 'scheduler'))\n",
      "# sys.path.append(os.path.join(ph_location, 'scheduler/ga'))\n",
      "# sys.path.append(os.path.join(ph_location, 'scheduler/simple'))\n",
      "# sys.path.append(os.path.join(ph_location, 'scheduler/peak_pauser'))\n",
      "# sys.path.append(os.path.join(ph_location, 'scheduler/generic'))\n",
      "# sys.path.append(os.path.join(ph_location, 'settings'))\n",
      "# sys.path.append(os.path.join(ph_location, 'simulator'))\n",
      "# sys.path.append(os.path.join(ph_location, 'timeseries'))"
     ],
     "language": "python",
     "metadata": {},
     "outputs": [],
     "prompt_number": 3
    },
    {
     "cell_type": "code",
     "collapsed": false,
     "input": [
      "%reload_ext autoreload\n",
      "%autoreload 2\n",
      "import philharmonic as ph\n",
      "# from philharmonic import VM, Server, State, Migration"
     ],
     "language": "python",
     "metadata": {},
     "outputs": [],
     "prompt_number": 4
    },
    {
     "cell_type": "code",
     "collapsed": false,
     "input": [
      "## Loading all modules from a directory\n",
      "# import pkgutil\n",
      "# import sys\n",
      "# def load_all_modules_from_dir(dirname):\n",
      "#     for importer, package_name, _ in pkgutil.iter_modules([dirname]):\n",
      "#         full_package_name = '%s.%s' % (dirname, package_name)\n",
      "#         if full_package_name not in sys.modules:\n",
      "#             module = importer.find_module(package_name\n",
      "#                         ).load_module(full_package_name)\n",
      "#             print module\n",
      "\n",
      "\n",
      "# load_all_modules_from_dir(ph_location)"
     ],
     "language": "python",
     "metadata": {},
     "outputs": [],
     "prompt_number": 5
    },
    {
     "cell_type": "code",
     "collapsed": false,
     "input": [
      "import pandas as pd\n",
      "import pickle\n",
      "# import philharmonic.cloud.model as model\n",
      "os.getcwd()\n",
      "# requests = pd.read_pickle(os.path.join(base_location, 'io/workload', 'requests.pkl'))\n",
      "# with open(os.path.join(base_location, 'io/workload', 'servers.pkl')) as pkl_srv:\n",
      "#     servers = pickle.load(pkl_srv)\n",
      "# print servers\n",
      "# requests = pd.read_pickle(os.path.join(simple_location, '2015-09-01', '180556_input_requests.pkl'))\n",
      "# results = pd.read_pickle(os.path.join(simple_location, '2015-09-01', '180556_output_results.pkl'))\n",
      "# schedule = pd.read_pickle(os.path.join(simple_location, '2015-09-01', '180556_output_schedule.pkl'))\n",
      "power = pd.read_pickle(os.path.join(simple_location, '2015-09-03', '163609_output_power.pkl'))\n",
      "util = pd.read_pickle(os.path.join(simple_location, '2015-09-03', '163609_output_util.pkl'))\n",
      "util"
     ],
     "language": "python",
     "metadata": {},
     "outputs": [
      {
       "ename": "IOError",
       "evalue": "[Errno 2] No such file or directory: 'c:/Users/Andreas/Dropbox/uni/DA/Implementation/philharmonic/io/results/test/simple\\\\2015-09-03\\\\200126_output_power.pkl'",
       "output_type": "pyerr",
       "traceback": [
        "\u001b[1;31m---------------------------------------------------------------------------\u001b[0m\n\u001b[1;31mIOError\u001b[0m                                   Traceback (most recent call last)",
        "\u001b[1;32m<ipython-input-9-331beb513475>\u001b[0m in \u001b[0;36m<module>\u001b[1;34m()\u001b[0m\n\u001b[0;32m     10\u001b[0m \u001b[1;31m# results = pd.read_pickle(os.path.join(simple_location, '2015-09-01', '180556_output_results.pkl'))\u001b[0m\u001b[1;33m\u001b[0m\u001b[1;33m\u001b[0m\u001b[0m\n\u001b[0;32m     11\u001b[0m \u001b[1;31m# schedule = pd.read_pickle(os.path.join(simple_location, '2015-09-01', '180556_output_schedule.pkl'))\u001b[0m\u001b[1;33m\u001b[0m\u001b[1;33m\u001b[0m\u001b[0m\n\u001b[1;32m---> 12\u001b[1;33m \u001b[0mpower\u001b[0m \u001b[1;33m=\u001b[0m \u001b[0mpd\u001b[0m\u001b[1;33m.\u001b[0m\u001b[0mread_pickle\u001b[0m\u001b[1;33m(\u001b[0m\u001b[0mos\u001b[0m\u001b[1;33m.\u001b[0m\u001b[0mpath\u001b[0m\u001b[1;33m.\u001b[0m\u001b[0mjoin\u001b[0m\u001b[1;33m(\u001b[0m\u001b[0msimple_location\u001b[0m\u001b[1;33m,\u001b[0m \u001b[1;34m'2015-09-03'\u001b[0m\u001b[1;33m,\u001b[0m \u001b[1;34m'200126_output_power.pkl'\u001b[0m\u001b[1;33m)\u001b[0m\u001b[1;33m)\u001b[0m\u001b[1;33m\u001b[0m\u001b[0m\n\u001b[0m\u001b[0;32m     13\u001b[0m \u001b[0mutil\u001b[0m \u001b[1;33m=\u001b[0m \u001b[0mpd\u001b[0m\u001b[1;33m.\u001b[0m\u001b[0mread_pickle\u001b[0m\u001b[1;33m(\u001b[0m\u001b[0mos\u001b[0m\u001b[1;33m.\u001b[0m\u001b[0mpath\u001b[0m\u001b[1;33m.\u001b[0m\u001b[0mjoin\u001b[0m\u001b[1;33m(\u001b[0m\u001b[0msimple_location\u001b[0m\u001b[1;33m,\u001b[0m \u001b[1;34m'2015-09-03'\u001b[0m\u001b[1;33m,\u001b[0m \u001b[1;34m'201713_output_util.pkl'\u001b[0m\u001b[1;33m)\u001b[0m\u001b[1;33m)\u001b[0m\u001b[1;33m\u001b[0m\u001b[0m\n\u001b[0;32m     14\u001b[0m \u001b[0mutil\u001b[0m\u001b[1;33m\u001b[0m\u001b[0m\n",
        "\u001b[1;32mc:\\Users\\Andreas\\Anaconda\\lib\\site-packages\\pandas\\io\\pickle.pyc\u001b[0m in \u001b[0;36mread_pickle\u001b[1;34m(path)\u001b[0m\n\u001b[0;32m     59\u001b[0m \u001b[1;33m\u001b[0m\u001b[0m\n\u001b[0;32m     60\u001b[0m     \u001b[1;32mtry\u001b[0m\u001b[1;33m:\u001b[0m\u001b[1;33m\u001b[0m\u001b[0m\n\u001b[1;32m---> 61\u001b[1;33m         \u001b[1;32mreturn\u001b[0m \u001b[0mtry_read\u001b[0m\u001b[1;33m(\u001b[0m\u001b[0mpath\u001b[0m\u001b[1;33m)\u001b[0m\u001b[1;33m\u001b[0m\u001b[0m\n\u001b[0m\u001b[0;32m     62\u001b[0m     \u001b[1;32mexcept\u001b[0m\u001b[1;33m:\u001b[0m\u001b[1;33m\u001b[0m\u001b[0m\n\u001b[0;32m     63\u001b[0m         \u001b[1;32mif\u001b[0m \u001b[0mPY3\u001b[0m\u001b[1;33m:\u001b[0m\u001b[1;33m\u001b[0m\u001b[0m\n",
        "\u001b[1;32mc:\\Users\\Andreas\\Anaconda\\lib\\site-packages\\pandas\\io\\pickle.pyc\u001b[0m in \u001b[0;36mtry_read\u001b[1;34m(path, encoding)\u001b[0m\n\u001b[0;32m     55\u001b[0m             \u001b[1;31m# compat pickle\u001b[0m\u001b[1;33m\u001b[0m\u001b[1;33m\u001b[0m\u001b[0m\n\u001b[0;32m     56\u001b[0m             \u001b[1;32mexcept\u001b[0m\u001b[1;33m:\u001b[0m\u001b[1;33m\u001b[0m\u001b[0m\n\u001b[1;32m---> 57\u001b[1;33m                 \u001b[1;32mwith\u001b[0m \u001b[0mopen\u001b[0m\u001b[1;33m(\u001b[0m\u001b[0mpath\u001b[0m\u001b[1;33m,\u001b[0m \u001b[1;34m'rb'\u001b[0m\u001b[1;33m)\u001b[0m \u001b[1;32mas\u001b[0m \u001b[0mfh\u001b[0m\u001b[1;33m:\u001b[0m\u001b[1;33m\u001b[0m\u001b[0m\n\u001b[0m\u001b[0;32m     58\u001b[0m                     \u001b[1;32mreturn\u001b[0m \u001b[0mpc\u001b[0m\u001b[1;33m.\u001b[0m\u001b[0mload\u001b[0m\u001b[1;33m(\u001b[0m\u001b[0mfh\u001b[0m\u001b[1;33m,\u001b[0m \u001b[0mencoding\u001b[0m\u001b[1;33m=\u001b[0m\u001b[0mencoding\u001b[0m\u001b[1;33m,\u001b[0m \u001b[0mcompat\u001b[0m\u001b[1;33m=\u001b[0m\u001b[0mTrue\u001b[0m\u001b[1;33m)\u001b[0m\u001b[1;33m\u001b[0m\u001b[0m\n\u001b[0;32m     59\u001b[0m \u001b[1;33m\u001b[0m\u001b[0m\n",
        "\u001b[1;31mIOError\u001b[0m: [Errno 2] No such file or directory: 'c:/Users/Andreas/Dropbox/uni/DA/Implementation/philharmonic/io/results/test/simple\\\\2015-09-03\\\\200126_output_power.pkl'"
       ]
      }
     ],
     "prompt_number": 9
    },
    {
     "cell_type": "code",
     "collapsed": false,
     "input": [
      "import matplotlib.pyplot as plt\n",
      "plt.plot(util)\n",
      "plt.show()"
     ],
     "language": "python",
     "metadata": {},
     "outputs": [],
     "prompt_number": 8
    }
   ],
   "metadata": {}
  }
 ]
}