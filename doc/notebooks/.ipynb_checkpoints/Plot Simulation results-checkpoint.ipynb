{
 "metadata": {
  "name": "",
  "signature": "sha256:85a7a0ab76b3d2bc82731f3d7cd00af660004a3f456b69508fc83fbe5e201303"
 },
 "nbformat": 3,
 "nbformat_minor": 0,
 "worksheets": [
  {
   "cells": [
    {
     "cell_type": "code",
     "collapsed": false,
     "input": [
      "import os\n",
      "base_location = os.path.expanduser('~/Dropbox/uni/DA/Implementation/philharmonic')\n",
      "ph_location = os.path.expanduser('~/Dropbox/uni/DA/Implementation/philharmonic/philharmonic')\n",
      "simple_location = os.path.expanduser('~/Dropbox/uni/DA/Implementation/philharmonic/io/results/test/simple')\n",
      "os.listdir(base_location)"
     ],
     "language": "python",
     "metadata": {},
     "outputs": [
      {
       "metadata": {},
       "output_type": "pyout",
       "prompt_number": 2,
       "text": [
        "['.bzrignore',\n",
        " '.coveragerc',\n",
        " '.git',\n",
        " '.gitignore',\n",
        " '.project',\n",
        " '.pydevproject',\n",
        " '.Rhistory',\n",
        " '.travis.yml',\n",
        " 'csvData.csv',\n",
        " 'doc',\n",
        " 'HACKING.md',\n",
        " 'helloworld.pyx',\n",
        " 'io',\n",
        " 'LICENSE',\n",
        " 'Makefile',\n",
        " 'measure_energy.py',\n",
        " 'philharmonic',\n",
        " 'philharmonic.log',\n",
        " 'README.md',\n",
        " 'requirements',\n",
        " 'requirements.txt',\n",
        " 'schedule.py',\n",
        " 'setup.cfg',\n",
        " 'setup.py',\n",
        " 'simulate.py',\n",
        " 'test.sh']"
       ]
      }
     ],
     "prompt_number": 2
    },
    {
     "cell_type": "code",
     "collapsed": false,
     "input": [
      "import sys\n",
      "sys.path.append(base_location)\n",
      "sys.path.append(os.path.join(base_location, 'philharmonic'))\n",
      "# sys.path.append(os.path.join(ph_location, 'cloud'))\n",
      "# sys.path.append(os.path.join(ph_location, 'manager'))\n",
      "# sys.path.append(os.path.join(ph_location, 'scheduler'))\n",
      "# sys.path.append(os.path.join(ph_location, 'scheduler/ga'))\n",
      "# sys.path.append(os.path.join(ph_location, 'scheduler/simple'))\n",
      "# sys.path.append(os.path.join(ph_location, 'scheduler/peak_pauser'))\n",
      "# sys.path.append(os.path.join(ph_location, 'scheduler/generic'))\n",
      "# sys.path.append(os.path.join(ph_location, 'settings'))\n",
      "# sys.path.append(os.path.join(ph_location, 'simulator'))\n",
      "# sys.path.append(os.path.join(ph_location, 'timeseries'))"
     ],
     "language": "python",
     "metadata": {},
     "outputs": [],
     "prompt_number": 3
    },
    {
     "cell_type": "code",
     "collapsed": false,
     "input": [
      "%reload_ext autoreload\n",
      "%autoreload 2\n",
      "import philharmonic as ph\n",
      "# from philharmonic import VM, Server, State, Migration"
     ],
     "language": "python",
     "metadata": {},
     "outputs": [],
     "prompt_number": 4
    },
    {
     "cell_type": "code",
     "collapsed": false,
     "input": [
      "## Loading all modules from a directory\n",
      "# import pkgutil\n",
      "# import sys\n",
      "# def load_all_modules_from_dir(dirname):\n",
      "#     for importer, package_name, _ in pkgutil.iter_modules([dirname]):\n",
      "#         full_package_name = '%s.%s' % (dirname, package_name)\n",
      "#         if full_package_name not in sys.modules:\n",
      "#             module = importer.find_module(package_name\n",
      "#                         ).load_module(full_package_name)\n",
      "#             print module\n",
      "\n",
      "\n",
      "# load_all_modules_from_dir(ph_location)"
     ],
     "language": "python",
     "metadata": {},
     "outputs": [],
     "prompt_number": 1
    },
    {
     "cell_type": "code",
     "collapsed": false,
     "input": [
      "import pandas as pd\n",
      "import pickle\n",
      "# import philharmonic.cloud.model as model\n",
      "os.getcwd()\n",
      "# requests = pd.read_pickle(os.path.join(base_location, 'io/workload', 'requests.pkl'))\n",
      "# with open(os.path.join(base_location, 'io/workload', 'servers.pkl')) as pkl_srv:\n",
      "#     servers = pickle.load(pkl_srv)\n",
      "# print servers\n",
      "# requests = pd.read_pickle(os.path.join(simple_location, '2015-09-01', '180556_input_requests.pkl'))\n",
      "# results = pd.read_pickle(os.path.join(simple_location, '2015-09-01', '180556_output_results.pkl'))\n",
      "# schedule = pd.read_pickle(os.path.join(simple_location, '2015-09-01', '180556_output_schedule.pkl'))\n",
      "power = pd.read_pickle(os.path.join(simple_location, '2015-09-02', '200126_output_power.pkl'))\n",
      "util = pd.read_pickle(os.path.join(simple_location, '2015-09-02', '201713_output_util.pkl'))"
     ],
     "language": "python",
     "metadata": {},
     "outputs": [],
     "prompt_number": 16
    },
    {
     "cell_type": "code",
     "collapsed": false,
     "input": [],
     "language": "python",
     "metadata": {},
     "outputs": [
      {
       "output_type": "stream",
       "stream": "stdout",
       "text": [
        "PM:1@Helsinki^1.0 -> set([]);\n",
        "PM:2@Portland^1.0 -> set([]);\n",
        "PM:3@Boston^1.0 -> set([]);\n",
        "\n"
       ]
      }
     ],
     "prompt_number": 8
    }
   ],
   "metadata": {}
  }
 ]
}