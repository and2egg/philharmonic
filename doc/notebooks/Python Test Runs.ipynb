{
 "metadata": {
  "name": "",
  "signature": "sha256:de42d286ba3ca6f03c84c6a51cde712323e4c45b0448892df9e478795a18b3ff"
 },
 "nbformat": 3,
 "nbformat_minor": 0,
 "worksheets": [
  {
   "cells": [
    {
     "cell_type": "code",
     "collapsed": false,
     "input": [
      "import pandas as pd\n",
      "from pandas import *\n",
      "import numpy as np\n",
      "from pandas.tseries.offsets import *\n",
      "from datetime import datetime\n",
      "\n",
      "randn = np.random.randn\n",
      "\n",
      "d = datetime(2008, 8, 18, 9, 0)"
     ],
     "language": "python",
     "metadata": {},
     "outputs": [],
     "prompt_number": 36
    },
    {
     "cell_type": "code",
     "collapsed": false,
     "input": [
      "d"
     ],
     "language": "python",
     "metadata": {},
     "outputs": [
      {
       "metadata": {},
       "output_type": "pyout",
       "prompt_number": 55,
       "text": [
        "datetime.datetime(2008, 8, 18, 9, 0)"
       ]
      }
     ],
     "prompt_number": 55
    },
    {
     "cell_type": "code",
     "collapsed": false,
     "input": [
      "rng = pd.date_range('1/1/2011', periods=336, freq='H')\n",
      "rng\n",
      "rng[:5]"
     ],
     "language": "python",
     "metadata": {},
     "outputs": [
      {
       "metadata": {},
       "output_type": "pyout",
       "prompt_number": 64,
       "text": [
        "<class 'pandas.tseries.index.DatetimeIndex'>\n",
        "[2011-01-01 00:00:00, ..., 2011-01-01 04:00:00]\n",
        "Length: 5, Freq: H, Timezone: None"
       ]
      }
     ],
     "prompt_number": 64
    },
    {
     "cell_type": "code",
     "collapsed": false,
     "input": [
      "ts = pd.Series(randn(len(rng)), index=rng)\n",
      "ts.head()"
     ],
     "language": "python",
     "metadata": {},
     "outputs": [
      {
       "metadata": {},
       "output_type": "pyout",
       "prompt_number": 68,
       "text": [
        "2011-01-01 00:00:00    1.598889\n",
        "2011-01-01 01:00:00    0.323470\n",
        "2011-01-01 02:00:00   -0.108498\n",
        "2011-01-01 03:00:00    0.672022\n",
        "2011-01-01 04:00:00   -0.778883\n",
        "Freq: H, dtype: float64"
       ]
      }
     ],
     "prompt_number": 68
    },
    {
     "cell_type": "code",
     "collapsed": false,
     "input": [
      "converted = ts.resample('5Min', fill_method='pad')\n",
      "converted.tail()"
     ],
     "language": "python",
     "metadata": {},
     "outputs": [
      {
       "metadata": {},
       "output_type": "pyout",
       "prompt_number": 72,
       "text": [
        "2011-01-14 22:40:00   -0.833252\n",
        "2011-01-14 22:45:00   -0.833252\n",
        "2011-01-14 22:50:00   -0.833252\n",
        "2011-01-14 22:55:00   -0.833252\n",
        "2011-01-14 23:00:00   -0.140240\n",
        "Freq: 5T, dtype: float64"
       ]
      }
     ],
     "prompt_number": 72
    },
    {
     "cell_type": "code",
     "collapsed": false,
     "input": [
      "3%5"
     ],
     "language": "python",
     "metadata": {},
     "outputs": [
      {
       "metadata": {},
       "output_type": "pyout",
       "prompt_number": 70,
       "text": [
        "3"
       ]
      }
     ],
     "prompt_number": 70
    }
   ],
   "metadata": {}
  }
 ]
}