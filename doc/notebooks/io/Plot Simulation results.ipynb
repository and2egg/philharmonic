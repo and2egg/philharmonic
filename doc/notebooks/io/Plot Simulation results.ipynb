Python Simulator
Loading data
In [67]:

import os
base_location = os.path.expanduser('~/Dropbox/uni/DA/Implementation/philharmonic')
ph_location = os.path.expanduser('~/Dropbox/uni/DA/Implementation/philharmonic/philharmonic')
result_location = os.path.join(base_location, 'io/results/test')
simple_location = os.path.expanduser('~/Dropbox/uni/DA/Implementation/philharmonic/io/results/test/simple')
bcu_location = os.path.join(result_location, 'bcu')
 
bcu_results_DA_1 = os.path.join(result_location, 'bcu/simulation_DA_1')
 
os.listdir(base_location)
bcu_results_DA_1
 
os.path.basename(bcu_location)
bcu_location
Out[67]:
'c:/Users/Andreas/Dropbox/uni/DA/Implementation/philharmonic\\io/results/test\\bcu'
In [175]:

%matplotlib inline
 
import matplotlib
import numpy as np
import matplotlib.pyplot as plt
import pickle
In [ ]:

import sys
sys.path.append(base_location)
sys.path.append(os.path.join(base_location, 'philharmonic'))
# sys.path.append(os.path.join(ph_location, 'cloud'))
# sys.path.append(os.path.join(ph_location, 'manager'))
# sys.path.append(os.path.join(ph_location, 'scheduler'))
# sys.path.append(os.path.join(ph_location, 'scheduler/ga'))
# sys.path.append(os.path.join(ph_location, 'scheduler/simple'))
# sys.path.append(os.path.join(ph_location, 'scheduler/peak_pauser'))
# sys.path.append(os.path.join(ph_location, 'scheduler/generic'))
# sys.path.append(os.path.join(ph_location, 'settings'))
# sys.path.append(os.path.join(ph_location, 'simulator'))
# sys.path.append(os.path.join(ph_location, 'timeseries'))
In [ ]:

%reload_ext autoreload
%autoreload 2
import philharmonic as ph
# from philharmonic import VM, Server, State, Migration
In [4]:

## Loading all modules from a directory
# import pkgutil
# import sys
# def load_all_modules_from_dir(dirname):
#     for importer, package_name, _ in pkgutil.iter_modules([dirname]):
#         full_package_name = '%s.%s' % (dirname, package_name)
#         if full_package_name not in sys.modules:
#             module = importer.find_module(package_name
#                         ).load_module(full_package_name)
#             print module
 
 
# load_all_modules_from_dir(ph_location)
In [ ]:

import pandas as pd
import pickle
# import philharmonic.cloud.model as model
os.getcwd()
# requests = pd.read_pickle(os.path.join(base_location, 'io/workload', 'requests.pkl'))
# with open(os.path.join(base_location, 'io/workload', 'servers.pkl')) as pkl_srv:
#     servers = pickle.load(pkl_srv)
# print servers
# requests = pd.read_pickle(os.path.join(simple_location, '2015-09-01', '180556_input_requests.pkl'))
# results = pd.read_pickle(os.path.join(simple_location, '2015-09-01', '180556_output_results.pkl'))
# schedule = pd.read_pickle(os.path.join(simple_location, '2015-09-01', '180556_output_schedule.pkl'))
# power = pd.read_pickle(os.path.join(simple_location, '2015-09-03', '163609_output_power.pkl'))
# util = pd.read_pickle(os.path.join(simple_location, '2015-09-03', '163609_output_util.pkl'))
 
## location based: 
# power = pd.read_pickle(os.path.join(simple_location, '2015-10-18', '181417_output_power.pkl'))
# util = pd.read_pickle(os.path.join(simple_location, '2015-10-18', '181417_output_util.pkl'))
 
# 6 servers, 20 VMs
power = pd.read_pickle(os.path.join(simple_location, '2015-10-18', '185037_output_power.pkl'))
util = pd.read_pickle(os.path.join(simple_location, '2015-10-18', '185037_output_util.pkl'))
def get_util_per_location():
    return [util.ix[:,idx:(idx+1)] for idx in range(0,len(util.columns.values))]
utils = get_util_per_location()
utils[0]
# df1 = util.ix[:,0:1] # first column
# df1
In [198]:

# data io
 
io_date = '2016-02-24'
io_time = '235705'
output_dir = os.path.join(bcu_location, io_date)
barchart_path = os.path.join(output_dir, io_time+'_output_bar_chart.pdf')
metrics = pd.read_pickle(os.path.join(output_dir, io_time+'_output_metrics.pkl'))
metrics_norm = pd.read_pickle(os.path.join(output_dir, io_time+'_output_metrics_norm.pkl'))
results = pd.read_pickle(os.path.join(output_dir, io_time+'_output_results.pkl'))
results_norm = pd.read_pickle(os.path.join(output_dir, io_time+'_output_results_norm.pkl'))
runtimes = pd.read_pickle(os.path.join(output_dir, io_time+'_output_runtimes.pkl'))
prices = pd.read_pickle(os.path.join(output_dir, io_time+'_output_prices.pkl'))
fc_prices = pd.read_pickle(os.path.join(output_dir, io_time+'_output_fc_prices.pkl'))
results
results_norm
runtimes
metrics
metrics_norm
with open(os.path.join(output_dir, io_time+'_output_cloud_utils.pkl'), 'rb') as handle:
  cloud_utils = pickle.load(handle)
    
cloud_utils[1]
# prices
# fc_prices
Out[198]:
Boston	Hamina	Portland	Potsdam	St.Ghislain
2013-06-20 06:00:00	0.515689	0.000000	0.002812	0.000000	0.007833
2013-06-20 07:00:00	0.515689	0.000000	0.006000	0.000000	0.000000
2013-06-20 08:00:00	0.515689	0.000000	0.006000	0.000000	0.000000
2013-06-20 09:00:00	0.515689	0.000000	0.006000	0.000000	0.000000
2013-06-20 10:00:00	0.515689	0.008125	0.005812	0.004250	0.010729
2013-06-20 11:00:00	0.515689	0.013250	0.002812	0.005875	0.007833
2013-06-20 12:00:00	0.515689	0.008125	0.005812	0.007625	0.008792
2013-06-20 13:00:00	0.515689	0.000000	0.002812	0.000000	0.014021
2013-06-20 14:00:00	0.515689	0.008125	0.007729	0.005313	0.008792
2013-06-20 15:00:00	0.515689	0.008125	0.007729	0.007812	0.005604
2013-06-20 16:00:00	0.515689	0.008125	0.007729	0.007812	0.005604
2013-06-20 17:00:00	0.515689	0.015187	0.002812	0.000000	0.007833
2013-06-20 18:00:00	0.515689	0.006969	0.010094	0.007812	0.007115
2013-06-20 19:00:00	0.515689	0.006969	0.010094	0.007812	0.007115
2013-06-20 20:00:00	0.515689	0.007479	0.008021	0.007750	0.009264
2013-06-20 21:00:00	0.515689	0.005812	0.014375	0.007812	0.005604
2013-06-20 22:00:00	0.515689	0.019167	0.011750	0.010125	0.011625
2013-06-20 23:00:00	0.515689	0.014312	0.009667	0.008875	0.005437
2013-06-21 00:00:00	0.515689	0.010833	0.012187	0.008969	0.010219
2013-06-21 01:00:00	0.515067	0.015167	0.013028	0.010125	0.011042
2013-06-21 02:00:00	0.515067	0.015167	0.013028	0.010125	0.011042
2013-06-21 03:00:00	0.515067	0.015167	0.013028	0.010125	0.011042
2013-06-21 04:00:00	0.515689	0.013167	0.014708	0.010125	0.011625
2013-06-21 05:00:00	0.515689	0.013167	0.014708	0.010125	0.011625
2013-06-21 06:00:00	0.513824	0.013167	0.013667	0.016750	0.008531
2013-06-21 07:00:00	0.513824	0.013167	0.013667	0.016750	0.008531
2013-06-21 08:00:00	0.513824	0.013167	0.012625	0.015938	0.011531
2013-06-21 09:00:00	0.513824	0.013167	0.012625	0.015938	0.011531
2013-06-21 10:00:00	0.513824	0.013167	0.012812	0.015938	0.016912
2013-06-21 11:00:00	0.513824	0.013167	0.012812	0.015938	0.016912
...	...	...	...	...	...
2013-07-26 18:00:00	0.513824	0.024785	0.016031	0.013719	0.017321
2013-07-26 19:00:00	0.513824	0.020675	0.020667	0.016688	0.012287
2013-07-26 20:00:00	0.513824	0.030321	0.020667	0.015750	0.015917
2013-07-26 21:00:00	0.513824	0.030321	0.020667	0.015750	0.015917
2013-07-26 22:00:00	0.513824	0.028404	0.020667	0.012937	0.014667
2013-07-26 23:00:00	0.513824	0.010062	0.019458	0.016688	0.018433
2013-07-27 00:00:00	0.513824	0.022317	0.015427	0.011687	0.017175
2013-07-27 01:00:00	0.513824	0.024540	0.020667	0.014812	0.019183
2013-07-27 02:00:00	0.513824	0.024540	0.020667	0.014812	0.019183
2013-07-27 03:00:00	0.513824	0.012188	0.016271	0.010813	0.018433
2013-07-27 04:00:00	0.513824	0.012188	0.016271	0.010813	0.018433
2013-07-27 05:00:00	0.513824	0.011031	0.018469	0.015781	0.018433
2013-07-27 06:00:00	0.513824	0.011031	0.018469	0.015781	0.018433
2013-07-27 07:00:00	0.513824	0.012750	0.013312	0.014875	0.016121
2013-07-27 08:00:00	0.513824	0.013312	0.015948	0.013625	0.016121
2013-07-27 09:00:00	0.513824	0.013875	0.012271	0.013625	0.016121
2013-07-27 10:00:00	0.513824	0.017063	0.016167	0.018625	0.016121
2013-07-27 11:00:00	0.513824	0.017063	0.016167	0.018625	0.016121
2013-07-27 12:00:00	0.513824	0.017063	0.016167	0.015531	0.016121
2013-07-27 13:00:00	0.513824	0.017063	0.016167	0.015531	0.016121
2013-07-27 14:00:00	0.513824	0.011562	0.016167	0.018625	0.016121
2013-07-27 15:00:00	0.513824	0.019281	0.020500	0.017563	0.019783
2013-07-27 16:00:00	0.513824	0.019281	0.020500	0.017563	0.019783
2013-07-27 17:00:00	0.513824	0.015031	0.019542	0.016906	0.024654
2013-07-27 18:00:00	0.513824	0.016062	0.018250	0.016250	0.024654
2013-07-27 19:00:00	0.513824	0.016062	0.018250	0.016250	0.024654
2013-07-27 20:00:00	0.513824	0.016062	0.018250	0.016250	0.024654
2013-07-27 21:00:00	0.513824	0.015813	0.014479	0.013750	0.024654
2013-07-27 22:00:00	0.513824	0.016656	0.018562	0.016250	0.024654
2013-07-27 23:00:00	0.428186	0.013479	0.017625	0.015594	0.015824
906 rows × 5 columns
In [214]:

# Generate bar chart
generate_bar_chart(results_norm)
generate_bar_chart(metrics_norm, colormap='Oranges', hatch=False)
 
# metrics_norm.plot(kind='barh', stacked=True);



In [ ]:

nplots = len(utils)
titles = util.columns.values
 
colors = ('b', 'g', 'r', 'c', 'm', 'y', 'k')
 
for i in range(0, nplots):
    ax = plt.subplot(nplots, 1, (i+1))
    ax.set_title(titles[i])
#     ymin, ymax = ylim()
    ylim(-10, 110)
    xlabel('')
    ylabel('CPU Utilisation (%)')
    values = utils[i]*100
    values.plot(ax=ax, color=colors[i])
subplots_adjust(hspace=0.48)
 
plt.show()
In [215]:

df = pd.DataFrame(np.random.random((6, 5)) * 10,               
                        index=list('abcdef'), columns=list('ABCDE'))
 
df
 
ax = df.plot(kind='bar', stacked=True, align='center')
 
for container in ax.containers:
              plt.setp(container, width=1)
      
 
x0, x1 = ax.get_xlim()
 
ax.set_xlim(x0 -0.5, x1 + 0.25)
(-0.5, 6.5)
 
plt.tight_layout()

In [10]:

plt.plot([1,2,3])
# now create a subplot which represents the top plot of a grid
# with 2 rows and 1 column. Since this subplot will overlap the
# first, the plot (and its axes) previously created, will be removed
plt.subplot(211)
plt.plot(range(12))
plt.subplot(212, axisbg='y') # creates 2nd subplot with yellow background
plt.show()
In [142]:

def no_x_ticks(ax):
    ax.tick_params(\
    axis='x',          # changes apply to the x-axis
    which='both',      # both major and minor ticks are affected
    bottom='off',      # ticks along the bottom edge are off
    top='off',         # ticks along the top edge are off
    labelbottom='off') # labels along the bottom edge are off
    ax.set_xlabel('')
    
def no_y_ticks(ax):
    ax.tick_params(\
    axis='y',          # changes apply to the x-axis
    which='both',      # both major and minor ticks are affected
    left='off',      # ticks along the bottom edge are off
    right='off',         # ticks along the top edge are off
    labelleft='off') # labels along the bottom edge are off
    ax.set_ylabel('')
    
pd.Series(np.random.randn(10), pd.date_range(start='2012-01-01', periods=10)).plot()
xlabel('bla')
ylabel('bla')
show()
 
pd.Series(np.random.randn(10), pd.date_range(start='2012-01-01', periods=10)).plot()
xlabel('bla')
ylabel('bla')
no_x_ticks(plt.gca()) # gca stands for 'get current axis'
no_y_ticks(plt.gca())# gca stands for 'get current axis'
show()
In [14]:

# hatches demo
 
from matplotlib.patches import Ellipse, Polygon
 
fig = plt.figure()
ax1 = fig.add_subplot(131)
ax1.bar(range(1, 5), range(1, 5), color='red', edgecolor='black', hatch="/")
ax1.bar(range(1, 5), [6] * 4, bottom=range(1, 5), color='blue', edgecolor='black', hatch='//')
ax1.set_xticks([1.5, 2.5, 3.5, 4.5])
 
ax2 = fig.add_subplot(132)
bars = ax2.bar(range(1, 5), range(1, 5), color='yellow', ecolor='black') + \
    ax2.bar(range(1, 5), [6] * 4, bottom=range(1, 5), color='green', ecolor='black')
ax2.set_xticks([1.5, 2.5, 3.5, 4.5])
 
patterns = ('-', '+', 'x', '\\', '*', 'o', 'O', '.')
for bar, pattern in zip(bars, patterns):
    bar.set_hatch(pattern)
 
ax3 = fig.add_subplot(133)
ax3.fill([1, 3, 3, 1], [1, 1, 2, 2], fill=False, hatch='\\')
ax3.add_patch(Ellipse((4, 1.5), 4, 0.5, fill=False, hatch='*'))
ax3.add_patch(Polygon([[0, 0], [4, 1.1], [6, 2.5], [2, 1.4]], closed=True,
                      fill=False, hatch='/'))
ax3.set_xlim((0, 6))
ax3.set_ylim((0, 2.5))
 
 
plt.show()
In [53]:

# hatches demo 2
 
import random
patterns = ('-', '+', 'x', '\\', '*', 'o', 'O', '.', '/')
markers = 'os<^>p*'
for pattern in patterns:
    plt.scatter(np.random.uniform(size=(3,1)), np.random.uniform(size=(3,1)), s=1000,
                marker=random.choice(markers),
                facecolor='white',
                hatch=3*pattern, label=pattern)
 
plt.legend(scatterpoints=1, loc='best')
plt.show()
# plt.savefig('images/hatched-symbols.png')
In [38]:

# div by column:
 
data1 = {"a":[1.,3.,5.,2.],
         "b":[4.,8.,3.,7.],
         "c":[5.,45.,67.,34]}
data2 = {"a":[4.],
         "b":[2.],
         "c":[11.]}
 
df1 = pd.DataFrame(data1)
df2 = pd.DataFrame(data2) 
 
df1.div(df2.ix[0],axis='columns')
In [36]:

power_values = [1.0, 0.8]
cost_values = [1.0, 0.9]
results = {}
 
aggregated = power_values
aggr_names = ['BFD', 'BCU']
results['power'] = pd.Series(aggregated, aggr_names)
# read from pickle
 
aggregated = cost_values
aggr_names = ['BFD', 'BCU']
results['cost'] = pd.Series(aggregated, aggr_names)
# read from pickle
 
result_df = pd.DataFrame(results)
columns = ['power','cost']
result_df = result_df[columns]
result_df
Out[36]:
power	cost
BFD	1.0	1.0
BCU	0.8	0.9
In [221]:

# generate bar chart
 
def generate_bar_chart(result_df, xlim=None, ylim=(0,1.05), colormap='Greens', hatch=True):
    
    if ylim is not None:
        ax = result_df.plot(kind='bar', ylim=ylim, rot=0, colormap=colormap, figsize=(8, 4))#, colormap='binary', Blues, Greens, Oranges, )
    else:
        ax = result_df.plot(kind='bar', rot=0, colormap='Greens', figsize=(8, 4))
    
    pred = lambda obj: isinstance(obj, matplotlib.patches.Rectangle)
    bars = filter(pred, ax.get_children())
    hatches = ''.join(h*len(result_df) for h in "/\-xO.")  # "/\-xO."
 
    if hatch:
        for bar, hatch in zip(bars[:-1], hatches):
            bar.set_hatch(hatch)
        #bar.set_facecolor('white')
    legend_loc = 'lower left'
    if not legend_loc:
        legend_loc = 'lower left'
    plt.legend(loc=legend_loc, ncol=2)
    plt.savefig(barchart_path, bbox_inches='tight')
    show()
    
generate_bar_chart(metrics_norm, colormap='Oranges', hatch=False)

In [222]:

import string
 
from pandas import DataFrame
 
import numpy as np
from numpy.random import randn
 
import pandas.tools.plotting as plotting
 
from matplotlib.pylab import close
df = DataFrame(randn(6, 4),
               index=list(string.ascii_letters[:6]),
               columns=['x', 'y', 'z', 'four'])
 
import matplotlib.pyplot as plt
 
df1 = df.copy()
df2 = df.drop('x', axis=1)
 
for df in [df1, df2]:
    fig, axes = plt.subplots(3, 4, figsize=(14, 8))
    plt.subplots_adjust(top=0.95, bottom=0.05, left=0.05, right=0.95, hspace=0.35)
    df.plot(kind='bar', title='Default', ax=axes[0, 0], legend=False)
    df.plot(kind='bar', stacked=True, title='Default', ax=axes[0, 1], legend=False)
    df.plot(kind='barh', title='Default', ax=axes[0, 2], legend=False)
    df.plot(kind='barh', stacked=True, title='Default', ax=axes[0, 3], legend=False)
 
    w = 0.9
    title = 'width={0}'.format(w)
    df.plot(kind='bar', width=w, title=title, ax=axes[1, 0], legend=False)
    df.plot(kind='bar', width=w, stacked=True, title=title, ax=axes[1, 1], legend=False)
    df.plot(kind='barh', width=w, title=title, ax=axes[1, 2], legend=False)
    df.plot(kind='barh', width=w, stacked=True, title=title, ax=axes[1, 3], legend=False)
 
    p=0.2
    title = 'width={0}, pos={1}'.format(w, p)
    df.plot(kind='bar', width=w, pos=p, title=title, ax=axes[2, 0], legend=False)
    df.plot(kind='bar', width=w, pos=p, stacked=True, title=title, ax=axes[2, 1], legend=False)
    df.plot(kind='barh', width=w, pos=p, title=title, ax=axes[2, 2], legend=False)
    df.plot(kind='barh', width=w, pos=p, stacked=True, title=title, ax=axes[2, 3], legend=False)
    
    plt.show()
---------------------------------------------------------------------------
AttributeError                            Traceback (most recent call last)
<ipython-input-222-ffe28bc8725a> in <module>()
     35     p=0.2
     36     title = 'width={0}, pos={1}'.format(w, p)
---> 37     df.plot(kind='bar', width=w, pos=p, title=title, ax=axes[2, 0], legend=False)
     38     df.plot(kind='bar', width=w, pos=p, stacked=True, title=title, ax=axes[2, 1], legend=False)
     39     df.plot(kind='barh', width=w, pos=p, title=title, ax=axes[2, 2], legend=False)

c:\Users\Andreas\Anaconda\lib\site-packages\pandas\tools\plotting.pyc in plot_frame(frame, x, y, subplots, sharex, sharey, use_index, figsize, grid, legend, rot, ax, style, title, xlim, ylim, logx, logy, xticks, yticks, kind, sort_columns, fontsize, secondary_y, **kwds)
   2163                              secondary_y=secondary_y, **kwds)
   2164 
-> 2165     plot_obj.generate()
   2166     plot_obj.draw()
   2167     if subplots:

c:\Users\Andreas\Anaconda\lib\site-packages\pandas\tools\plotting.pyc in generate(self)
    900         self._compute_plot_data()
    901         self._setup_subplots()
--> 902         self._make_plot()
    903         self._add_table()
    904         self._make_legend()

c:\Users\Andreas\Anaconda\lib\site-packages\pandas\tools\plotting.pyc in _make_plot(self)
   1877                 w = self.bar_width / K
   1878                 rect = bar_f(ax, self.ax_pos + (i + 0.5) * w, y, w,
-> 1879                              start=start, label=label, **kwds)
   1880             self._add_legend_handle(rect, label, index=i)
   1881 

c:\Users\Andreas\Anaconda\lib\site-packages\pandas\tools\plotting.pyc in f(ax, x, y, w, start, **kwds)
   1816                 if self.bottom is not None:
   1817                     start = start + self.bottom
-> 1818                 return ax.bar(x, y, w, bottom=start,log=self.log, **kwds)
   1819         elif self.kind == 'barh':
   1820             def f(ax, x, y, w, start=None, log=self.log, **kwds):

c:\Users\Andreas\Anaconda\lib\site-packages\matplotlib\axes\_axes.pyc in bar(self, left, height, width, bottom, **kwargs)
   2040                 label='_nolegend_'
   2041                 )
-> 2042             r.update(kwargs)
   2043             r.get_path()._interpolation_steps = 100
   2044             #print r.get_label(), label, 'label' in kwargs

c:\Users\Andreas\Anaconda\lib\site-packages\matplotlib\artist.pyc in update(self, props)
    755             func = getattr(self, 'set_' + k, None)
    756             if func is None or not six.callable(func):
--> 757                 raise AttributeError('Unknown property %s' % k)
    758             func(v)
    759             changed = True

AttributeError: Unknown property pos


In [ ]:

def generate_bar_chart_custom(result_df, xlim=None, ylim=(0,1.05), colormap='Greens', hatch=True):
    N = 5
    menMeans = (20, 35, 30, 35, 27)
    menStd = (2, 3, 4, 1, 2)
 
    ind = np.arange(N)  # the x locations for the groups
    width = 0.55       # the width of the bars
 
    fig, ax = plt.subplots()
    rects1 = ax.bar(ind, menMeans, width, color='r', yerr=menStd)
 
    womenMeans = (25, 32, 34, 20, 25)
    womenStd = (3, 5, 2, 3, 3)
    rects2 = ax.bar(ind + width, womenMeans, width, color='y', yerr=womenStd)
 
    # add some text for labels, title and axes ticks
    ax.set_ylabel('Scores')
    ax.set_title('Scores by group and gender')
    ax.set_xticks(ind + width)
    ax.set_xticklabels(('G1', 'G2', 'G3', 'G4', 'G5'))
 
    ax.legend((rects1[0], rects2[0]), ('Men', 'Women'))
 
 
    def autolabel(rects):
        # attach some text labels
        for rect in rects:
            height = rect.get_height()
            ax.text(rect.get_x() + rect.get_width()/2., 1.05*height,
                    '%d' % int(height),
                    ha='center', va='bottom')
 
    autolabel(rects1)
    autolabel(rects2)
 
    plt.show()
In [213]:

n = 5
data = np.array(range(n)) + np.random.rand(n)
 
fig, ax = plt.subplots()
 
bar_width = 0.8  # default: 0.8
bar_locations = np.arange(n)
ax.bar(bar_locations, data, bar_width)
 
fig.show()

In [211]:

#!/usr/bin/env python
# a bar plot with errorbars
import numpy as np
import matplotlib.pyplot as plt
 
N = 5
menMeans = (20, 35, 30, 35, 27)
menStd = (2, 3, 4, 1, 2)
 
ind = np.arange(N)  # the x locations for the groups
width = 0.55       # the width of the bars
 
fig, ax = plt.subplots()
rects1 = ax.bar(ind, menMeans, width, color='r', yerr=menStd)
 
womenMeans = (25, 32, 34, 20, 25)
womenStd = (3, 5, 2, 3, 3)
rects2 = ax.bar(ind + width, womenMeans, width, color='y', yerr=womenStd)
 
# add some text for labels, title and axes ticks
ax.set_ylabel('Scores')
ax.set_title('Scores by group and gender')
ax.set_xticks(ind + width)
ax.set_xticklabels(('G1', 'G2', 'G3', 'G4', 'G5'))
 
ax.legend((rects1[0], rects2[0]), ('Men', 'Women'))
 
 
def autolabel(rects):
    # attach some text labels
    for rect in rects:
        height = rect.get_height()
        ax.text(rect.get_x() + rect.get_width()/2., 1.05*height,
                '%d' % int(height),
                ha='center', va='bottom')
 
autolabel(rects1)
autolabel(rects2)
 
plt.show()

In [204]:

import numpy as np
import matplotlib.pyplot as plt
 
 
x = np.array([1,2,3])
y1 = np.array([3,2.5,1])
y2 = np.array([4,3,2])
y3 = np.array([1,4,1])
 
width = 0.8
handles = []
b1 = plt.bar(x, y1, color='#2040D0', width=width, linewidth=0)
handles.append(b1)
b2 = plt.bar(x, y2, bottom=y1, color='#60A0D0', width=width, linewidth=0)
handles.append(b2)
b3 = plt.bar(x, y3, bottom=y1+y2, color='#A0D0D0', width=width, linewidth=0)
handles.append(b3)
 
# Highlight the middle stack.
for b in handles:
    b[1].set_linewidth(3)
 
plt.xlim(x[0]-0.5*width, x[-1]+1.5*width)
plt.xticks(x+0.5*width, ['A', 'B', 'C'])
plt.show()

In [161]:

import numpy as np
import matplotlib.pyplot as plt
 
 
start = pd.Timestamp('2013-06-20 00:00')
 
# TODO Andreas: Make this setting dynamic, or define as property in each settings file
t = pd.date_range(start, periods=24 * 14, freq='H')
 
fig, ax1 = plt.subplots()
# t = np.arange(0.01, 10.0, 0.01)
s1 = np.exp(np.random.randn(24*14))
ax1.plot(t, s1, 'b-')
ax1.set_xlabel('time (s)')
# Make the y-axis label and tick labels match the line color.
ax1.set_ylabel('exp', color='b')
for tl in ax1.get_yticklabels():
    tl.set_color('b')
 
 
ax2 = ax1.twinx()
# s2 = np.sin(2*np.pi*t)
s2 = np.exp(np.random.randn(24*14))
ax2.plot(t, s2, 'r.')
ax2.set_ylabel('sin', color='r')
for tl in ax2.get_yticklabels():
    tl.set_color('r')
plt.show()
 
In [185]:

results
# results['power']
results.plot()
# pd.Series(np.random.randn(10), pd.date_range(start='2012-01-01', periods=10)).plot()
show()

In [224]:

loc = 'Hamina'
# prices[loc].plot()
# fc_prices[loc].plot()
cloud_utils[7][loc].plot()
prices[loc].plot()
fc_prices[loc].plot()
show()

In [265]:

util_per_scenario = {}
util = cloud_utils[7][loc]*100
 
# util.reindex(pr.index())
# util.reindex(pr.index, method='ffill')
prices = prices.reindex(util.index, method='ffill')
fc_prices = fc_prices.reindex(util.index, method='ffill')
pr = prices[loc]
fc_pr = fc_prices[loc]
# util = util.align(pr, join='inner', axis=0)
# pr.align(util, join='left', axis=0)
pr.index
Out[265]:
<class 'pandas.tseries.index.DatetimeIndex'>
[2013-06-20 07:00:00, ..., 2013-07-27 23:00:00]
Length: 905, Freq: H, Timezone: None
In [284]:

loc = 'Hamina'
 
fig, ax1 = plt.subplots()
# t = np.arange(0.01, 10.0, 0.01)
s1 = pr
s11 = fc_pr
ax1.plot(pr.index, s1, 'g-')
ax1.plot(pr.index, s11, 'r-')
ax1.set_xlabel('time (s)', color='black')
# Make the y-axis label and tick labels match the line color.
ax1.set_ylabel('prices in $/kWh', color='black')
for tl in ax1.get_yticklabels():
    tl.set_color('black')
 
 
ax2 = ax1.twinx()
# s2 = np.sin(2*np.pi*t)
s2 = util
ax2.plot(pr.index, s2, 'b:')
ax2.set_ylabel('utilisation (%)', color='b')
for tl in ax2.get_yticklabels():
    tl.set_color('b')
plt.show()

In [285]:

loc = 'Hamina'
 
fig, ax1 = plt.subplots()
# t = np.arange(0.01, 10.0, 0.01)
s1 = pr
s11 = fc_pr
ax1.plot(pr.index, s1, 'g-')
ax1.plot(pr.index, s11, 'r-')
ax1.set_xlabel('time (s)', color='black')
# Make the y-axis label and tick labels match the line color.
ax1.set_ylabel('prices in $/kWh', color='black')
for tl in ax1.get_yticklabels():
    tl.set_color('black')
 
plt.show()

In [295]:

plt.figure(figsize=(20,12))
 
plt.subplot(4, 2, 1)
plt.plot(pr.index, pr, 'g-')
plt.plot(pr.index, fc_pr, 'r-')
plt.ylabel('prices in $ / kWh')
 
plt.subplot(4, 2, 2)
plt.plot(pr.index, pr, 'g-')
plt.plot(pr.index, fc_pr, 'r-')
plt.ylabel('prices in $ / kWh')
 
plt.subplot(4, 2, 3)
plt.plot(pr.index, util, 'b-')
plt.ylabel('utilisation (%)')
 
plt.subplot(4, 2, 4)
plt.plot(pr.index, util, 'b-')
plt.ylabel('utilisation (%)')
 
plt.subplot(4, 2, 5)
plt.plot(pr.index, pr, 'g-')
plt.plot(pr.index, fc_pr, 'r-')
plt.ylabel('prices in $ / kWh')
 
plt.subplot(4, 2, 6)
plt.plot(pr.index, pr, 'g-')
plt.plot(pr.index, fc_pr, 'r-')
plt.ylabel('prices in $ / kWh')
 
plt.subplot(4, 2, 7)
plt.plot(pr.index, util, 'b-')
plt.ylabel('utilisation (%)')
 
plt.subplot(4, 2, 8)
plt.plot(pr.index, util, 'b-')
plt.ylabel('utilisation (%)')
 
plt.show()

In [ ]:

plt.figure(figsize=(20,12))
 
plt.subplot(4, 2, 1)
plt.plot(pr.index, pr, 'g-')
plt.plot(pr.index, fc_pr, 'r-')
plt.ylabel('prices in $ / kWh')
 
plt.subplot(4, 2, 2)
plt.plot(pr.index, pr, 'g-')
plt.plot(pr.index, fc_pr, 'r-')
plt.ylabel('prices in $ / kWh')
 
plt.subplot(4, 2, 3)
plt.plot(pr.index, util, 'b-')
plt.ylabel('utilisation (%)')
 
plt.subplot(4, 2, 4)
plt.plot(pr.index, util, 'b-')
plt.ylabel('utilisation (%)')
 
plt.subplot(4, 2, 5)
plt.plot(pr.index, pr, 'g-')
plt.plot(pr.index, fc_pr, 'r-')
plt.ylabel('prices in $ / kWh')
 
plt.subplot(4, 2, 6)
plt.plot(pr.index, pr, 'g-')
plt.plot(pr.index, fc_pr, 'r-')
plt.ylabel('prices in $ / kWh')
 
plt.subplot(4, 2, 7)
plt.plot(pr.index, util, 'b-')
plt.ylabel('utilisation (%)')
 
plt.subplot(4, 2, 8)
plt.plot(pr.index, util, 'b-')
plt.ylabel('utilisation (%)')
 
plt.subplot(4, 2, 5)
plt.plot(pr.index, pr, 'g-')
plt.plot(pr.index, fc_pr, 'r-')
plt.ylabel('prices in $ / kWh')
 
plt.subplot(4, 2, 6)
plt.plot(pr.index, pr, 'g-')
plt.plot(pr.index, fc_pr, 'r-')
plt.ylabel('prices in $ / kWh')
 
plt.subplot(4, 2, 7)
plt.plot(pr.index, util, 'b-')
plt.ylabel('utilisation (%)')
 
plt.subplot(4, 2, 8)
plt.plot(pr.index, util, 'b-')
plt.ylabel('utilisation (%)')
 
plt.show()
In [276]:

x1 = np.linspace(0.0, 5.0)
x2 = np.linspace(0.0, 2.0)
 
y1 = np.cos(2 * np.pi * x1) * np.exp(-x1)
y2 = np.cos(2 * np.pi * x2)
 
fig, ax1 = plt.subplots()
 
plt.subplot(2, 1, 1)
plt.plot(x1, y1, 'ko-')
plt.title('A tale of 2 subplots')
plt.ylabel('Damped oscillation')
 
plt.subplot(2, 1, 2)
plt.plot(x2, y2, 'r.-')
plt.xlabel('time (s)')
plt.ylabel('Undamped')
 
plt.show()

In [ ]:

ax = plt.subplot(6, 5, axisNum)
In [225]:

import numpy as np
import matplotlib.pyplot as plt
 
 
start = pd.Timestamp('2013-06-20 00:00')
 
# TODO Andreas: Make this setting dynamic, or define as property in each settings file
t = pd.date_range(start, periods=7, freq='H')
 
fig, ax1 = plt.subplots()
# t = np.arange(0.01, 10.0, 0.01)
s1 = results['power']
ax1.plot(t, s1, 'b-')
ax1.set_xlabel('time (s)', color='b')
# Make the y-axis label and tick labels match the line color.
ax1.set_ylabel('exp', color='b')
for tl in ax1.get_yticklabels():
    tl.set_color('b')
 
 
ax2 = ax1.twinx()
# s2 = np.sin(2*np.pi*t)
s2 = results['cost']
ax2.plot(t, s2, 'r-')
ax2.set_ylabel('sin', color='r')
for tl in ax2.get_yticklabels():
    tl.set_color('r')
plt.show()
 

In [168]:

 
Out[168]:
7
In [148]:

pd.Series(np.random.randn(10), pd.date_range(start='2012-01-01', periods=10)).plot()
show()
In [139]:

import matplotlib.pyplot as plt
import numpy as np
 
fig, ax = plt.subplots()
ax2 = ax.twinx()
 
x = np.linspace(0, 10, 100)
 
ax.plot(x, np.sin(x), color='blue')
ax.set_ylabel(ylabel='Y-Value 1', color='blue')
ax.set_xlabel('Same X-values')
 
ax2.plot(x, x**3, color='green')
ax2.set_ylabel('Y-Value 2', color='green')
 
plt.show()